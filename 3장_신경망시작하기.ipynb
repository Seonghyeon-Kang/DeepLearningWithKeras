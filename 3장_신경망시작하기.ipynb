{
 "cells": [
  {
   "cell_type": "markdown",
   "metadata": {},
   "source": [
    "## 3.4 영화리뷰 분류 : 이진 준류 예제\n",
    "### 3.4.1 IMDB 데이터셋\n",
    "인터넷 영화 데이터베이스로부터 가져온 양극단의 리뷰 5만개로 이루어짐. 훈련 데이터 25,000개, 테스트 데이터 25,000개 각각 부정, 긍정 50%로 구성되어 있음."
   ]
  },
  {
   "cell_type": "code",
   "execution_count": 1,
   "metadata": {},
   "outputs": [
    {
     "name": "stderr",
     "output_type": "stream",
     "text": [
      "Using TensorFlow backend.\n"
     ]
    }
   ],
   "source": [
    "from keras.datasets import imdb\n",
    "\n",
    "# num_words : 빈도가 많은 순으로 1~10만번째 단어만 사용함을 의미\n",
    "# 레이블 0은 부정, 1은 긍정\n",
    "(train_data, train_labels), (test_data, test_labels) = imdb.load_data(num_words=10000)"
   ]
  },
  {
   "cell_type": "code",
   "execution_count": 2,
   "metadata": {},
   "outputs": [
    {
     "data": {
      "text/plain": [
       "9999"
      ]
     },
     "execution_count": 2,
     "metadata": {},
     "output_type": "execute_result"
    }
   ],
   "source": [
    "# index는 빈도 순위를 의미하므로 num_words 설정을 넘지 않음\n",
    "max([max(seq) for seq in train_data])"
   ]
  },
  {
   "cell_type": "code",
   "execution_count": 3,
   "metadata": {},
   "outputs": [
    {
     "data": {
      "text/plain": [
       "\"? this film was just brilliant casting location scenery story direction everyone's really suited the part they played and you could just imagine being there robert ? is an amazing actor and now the same being director ? father came from the same scottish island as myself so i loved the fact there was a real connection with this film the witty remarks throughout the film were great it was just brilliant so much that i bought the film as soon as it was released for ? and would recommend it to everyone to watch and the fly fishing was amazing really cried at the end it was so sad and you know what they say if you cry at a film it must have been good and this definitely was also ? to the two little boy's that played the ? of norman and paul they were just brilliant children are often left out of the ? list i think because the stars that play them all grown up are such a big profile for the whole film but these children are amazing and should be praised for what they have done don't you think the whole story was so lovely because it was true and was someone's life after all that was shared with us all\""
      ]
     },
     "execution_count": 3,
     "metadata": {},
     "output_type": "execute_result"
    }
   ],
   "source": [
    "# 원래 단어로 변환\n",
    "word_index = imdb.get_word_index()\n",
    "reverse_word_index = dict([value, key] for (key, value) in word_index.items())\n",
    "decoded_review = ' '.join([reverse_word_index.get(i-3, '?') for i in train_data[0]]) # 0, 1, 2는 패딩, 문서시작, 사전에 없음을 위한 인덱스이므로 3을 뺌\n",
    "decoded_review"
   ]
  },
  {
   "cell_type": "markdown",
   "metadata": {},
   "source": [
    "### 3.4.2 데이터 준비\n",
    "리스트의 길이가 요소마다 다르므로 리스트의 텐서 전환이 필요하며 2가지 방법이 있음.\n",
    "+ 같은 길이가 되도록 리스트에 패딩을 추가하고 (samples, sequence_length) 크기의 정수 텐서로 변환\n",
    "+ 리스트를 원-핫 인코딩(one-hot encoding)하여 0과 1의 벡터로 변환\n",
    "\n",
    "아래는 2번째 방법을 사용하였음."
   ]
  },
  {
   "cell_type": "code",
   "execution_count": 4,
   "metadata": {},
   "outputs": [],
   "source": [
    "import numpy as np\n",
    "\n",
    "def vectorize_sequences(sequences, dimension=10000):\n",
    "    result = np.zeros((len(sequences), dimension))\n",
    "    for i, seq in enumerate(sequences):\n",
    "        result[i, seq] = 1. # numpy는 여러 요소를 한번에 1로 바꿀 수 있음\n",
    "    return result\n",
    "\n",
    "x_train = vectorize_sequences(train_data)\n",
    "x_test  = vectorize_sequences(test_data)\n",
    "\n",
    "y_train = np.asarray(train_labels).astype('float32') # array와 차이점은 copy를 하지 않는다는 것\n",
    "y_test = np.asarray(test_labels).astype('float32') "
   ]
  },
  {
   "cell_type": "markdown",
   "metadata": {},
   "source": [
    "### 3.4.3 신경만 모델 만들기\n",
    "아래 구조의 신경망 모델을 생성.\n",
    "+ 16개의 은닉 유닛을 가진 2개의 은닉 층\n",
    "+ 현재 리뷰의 감정을 스칼라 값의 예측으로 출력하는 세 번째 층"
   ]
  },
  {
   "cell_type": "code",
   "execution_count": 5,
   "metadata": {},
   "outputs": [],
   "source": [
    "from keras import models\n",
    "from keras import layers\n",
    "\n",
    "model = models.Sequential()\n",
    "model.add(layers.Dense(16, activation='relu', input_shape=(10000,)))\n",
    "model.add(layers.Dense(16, activation='relu'))\n",
    "model.add(layers.Dense(1, activation='sigmoid'))"
   ]
  },
  {
   "cell_type": "code",
   "execution_count": 6,
   "metadata": {},
   "outputs": [],
   "source": [
    "from keras import optimizers\n",
    "from keras import losses\n",
    "from keras import metrics\n",
    "\n",
    "model.compile(optimizer=optimizers.RMSprop(lr=0.0005),\n",
    "              loss=losses.binary_crossentropy,\n",
    "              metrics=[metrics.binary_accuracy])\n",
    "\n",
    "# 문자열로도 표현 가능\n",
    "# model.complie(optimizer='rmsprop', \n",
    "#               loss='binary_crossentropy',\n",
    "#               metrics=['accuracy'])\n"
   ]
  },
  {
   "cell_type": "markdown",
   "metadata": {},
   "source": [
    "### 3.4.4 훈련 검증\n",
    "10,000의 샘플을 떼어 검증 세트를 만듦."
   ]
  },
  {
   "cell_type": "code",
   "execution_count": 7,
   "metadata": {},
   "outputs": [],
   "source": [
    "# 검증 데이터 구분\n",
    "x_val = x_train[:10000]\n",
    "partial_x_train = x_train[10000:]\n",
    "y_val = y_train[:10000]\n",
    "partial_y_train = y_train[10000:]"
   ]
  },
  {
   "cell_type": "code",
   "execution_count": 8,
   "metadata": {},
   "outputs": [
    {
     "name": "stdout",
     "output_type": "stream",
     "text": [
      "Train on 15000 samples, validate on 10000 samples\n",
      "Epoch 1/20\n",
      "15000/15000 [==============================] - 2s 137us/step - loss: 0.5728 - binary_accuracy: 0.7677 - val_loss: 0.4750 - val_binary_accuracy: 0.8365\n",
      "Epoch 2/20\n",
      "15000/15000 [==============================] - 1s 80us/step - loss: 0.3927 - binary_accuracy: 0.8841 - val_loss: 0.3686 - val_binary_accuracy: 0.8760\n",
      "Epoch 3/20\n",
      "15000/15000 [==============================] - 1s 80us/step - loss: 0.2969 - binary_accuracy: 0.9095 - val_loss: 0.3214 - val_binary_accuracy: 0.8794\n",
      "Epoch 4/20\n",
      "15000/15000 [==============================] - 1s 66us/step - loss: 0.2384 - binary_accuracy: 0.9259 - val_loss: 0.2923 - val_binary_accuracy: 0.8870\n",
      "Epoch 5/20\n",
      "15000/15000 [==============================] - 1s 68us/step - loss: 0.1984 - binary_accuracy: 0.9390 - val_loss: 0.2802 - val_binary_accuracy: 0.8885\n",
      "Epoch 6/20\n",
      "15000/15000 [==============================] - 1s 78us/step - loss: 0.1690 - binary_accuracy: 0.9477 - val_loss: 0.2744 - val_binary_accuracy: 0.8911\n",
      "Epoch 7/20\n",
      "15000/15000 [==============================] - 1s 65us/step - loss: 0.1460 - binary_accuracy: 0.9551 - val_loss: 0.2762 - val_binary_accuracy: 0.8906\n",
      "Epoch 8/20\n",
      "15000/15000 [==============================] - 1s 72us/step - loss: 0.1266 - binary_accuracy: 0.9626 - val_loss: 0.2885 - val_binary_accuracy: 0.8842\n",
      "Epoch 9/20\n",
      "15000/15000 [==============================] - 1s 54us/step - loss: 0.1100 - binary_accuracy: 0.9688 - val_loss: 0.2963 - val_binary_accuracy: 0.8835\n",
      "Epoch 10/20\n",
      "15000/15000 [==============================] - 1s 79us/step - loss: 0.0961 - binary_accuracy: 0.9735 - val_loss: 0.3017 - val_binary_accuracy: 0.8860\n",
      "Epoch 11/20\n",
      "15000/15000 [==============================] - 1s 72us/step - loss: 0.0842 - binary_accuracy: 0.9778 - val_loss: 0.3197 - val_binary_accuracy: 0.8847\n",
      "Epoch 12/20\n",
      "15000/15000 [==============================] - 1s 76us/step - loss: 0.0716 - binary_accuracy: 0.9825 - val_loss: 0.3460 - val_binary_accuracy: 0.8763\n",
      "Epoch 13/20\n",
      "15000/15000 [==============================] - 1s 61us/step - loss: 0.0623 - binary_accuracy: 0.9853 - val_loss: 0.3534 - val_binary_accuracy: 0.8767\n",
      "Epoch 14/20\n",
      "15000/15000 [==============================] - 1s 72us/step - loss: 0.0537 - binary_accuracy: 0.9876 - val_loss: 0.3739 - val_binary_accuracy: 0.8794\n",
      "Epoch 15/20\n",
      "15000/15000 [==============================] - 1s 71us/step - loss: 0.0461 - binary_accuracy: 0.9902 - val_loss: 0.3824 - val_binary_accuracy: 0.8793\n",
      "Epoch 16/20\n",
      "15000/15000 [==============================] - 1s 66us/step - loss: 0.0387 - binary_accuracy: 0.9922 - val_loss: 0.4089 - val_binary_accuracy: 0.8783\n",
      "Epoch 17/20\n",
      "15000/15000 [==============================] - 1s 71us/step - loss: 0.0328 - binary_accuracy: 0.9944 - val_loss: 0.4292 - val_binary_accuracy: 0.8733\n",
      "Epoch 18/20\n",
      "15000/15000 [==============================] - 1s 73us/step - loss: 0.0274 - binary_accuracy: 0.9957 - val_loss: 0.4543 - val_binary_accuracy: 0.8722\n",
      "Epoch 19/20\n",
      "15000/15000 [==============================] - 1s 76us/step - loss: 0.0232 - binary_accuracy: 0.9961 - val_loss: 0.4743 - val_binary_accuracy: 0.8711\n",
      "Epoch 20/20\n",
      "15000/15000 [==============================] - 1s 75us/step - loss: 0.0187 - binary_accuracy: 0.9977 - val_loss: 0.4945 - val_binary_accuracy: 0.8721\n",
      "25000/25000 [==============================] - 1s 55us/step\n",
      "[0.5366422361421586, 0.85844]\n"
     ]
    }
   ],
   "source": [
    "# 모델 훈련하기\n",
    "history = model.fit(partial_x_train,\n",
    "                    partial_y_train,\n",
    "                    epochs=20,\n",
    "                    batch_size=512,\n",
    "                    validation_data=(x_val, y_val))\n",
    "\n",
    "result = model.evaluate(x_test, y_test)\n",
    "print(result) "
   ]
  },
  {
   "cell_type": "code",
   "execution_count": 9,
   "metadata": {},
   "outputs": [
    {
     "data": {
      "image/png": "[encoded data removed]",
      "text/plain": [
       "<Figure size 576x504 with 1 Axes>"
      ]
     },
     "metadata": {},
     "output_type": "display_data"
    }
   ],
   "source": [
    "# 훈련과 검증 손실\n",
    "import matplotlib.pyplot as plt\n",
    "%matplotlib inline\n",
    "\n",
    "from jupyterthemes import jtplot\n",
    "jtplot.style(theme='oceans16', context='notebook', ticks=False, grid=False)\n",
    "\n",
    "history_dict = history.history\n",
    "loss = history_dict['loss']\n",
    "val_loss = history_dict['val_loss']\n",
    "\n",
    "epochs = range(1, len(loss) + 1)\n",
    "\n",
    "plt.plot(epochs, loss, 'o', label='Training loss')\n",
    "plt.plot(epochs, val_loss, 'o', label='Validation loss')\n",
    "plt.title('Training and validation loss')\n",
    "plt.xlabel('Epochs')\n",
    "plt.ylabel('Loss')\n",
    "plt.legend()\n",
    "\n",
    "plt.show() # 7번째부터 Validation과 Training의 방향이 역전됨"
   ]
  },
  {
   "cell_type": "code",
   "execution_count": 10,
   "metadata": {},
   "outputs": [
    {
     "data": {
      "image/png": "[encoded data removed]",
      "text/plain": [
       "<Figure size 432x288 with 1 Axes>"
      ]
     },
     "metadata": {
      "needs_background": "dark"
     },
     "output_type": "display_data"
    }
   ],
   "source": [
    "# 훈련과 검증 정확도\n",
    "plt.clf()\n",
    "\n",
    "acc = history_dict['binary_accuracy']\n",
    "val_acc = history_dict['val_binary_accuracy']\n",
    "\n",
    "plt.plot(epochs, acc, 'o', label='Training acc')\n",
    "plt.plot(epochs, val_acc, 'o', label='Validation acc')\n",
    "plt.title('Training and validation accuracy')\n",
    "plt.xlabel('Epochs')\n",
    "plt.ylabel('Accuracy')\n",
    "plt.legend()\n",
    "\n",
    "plt.show() # 7번째부터 Validation의 acc가 상승되지 않음"
   ]
  },
  {
   "cell_type": "code",
   "execution_count": 11,
   "metadata": {},
   "outputs": [
    {
     "name": "stdout",
     "output_type": "stream",
     "text": [
      "Train on 15000 samples, validate on 10000 samples\n",
      "Epoch 1/7\n",
      "15000/15000 [==============================] - 1s 82us/step - loss: 0.0151 - binary_accuracy: 0.9987 - val_loss: 0.5213 - val_binary_accuracy: 0.8706\n",
      "Epoch 2/7\n",
      "15000/15000 [==============================] - 1s 83us/step - loss: 0.0128 - binary_accuracy: 0.9991 - val_loss: 0.5473 - val_binary_accuracy: 0.8705\n",
      "Epoch 3/7\n",
      "15000/15000 [==============================] - 1s 80us/step - loss: 0.0099 - binary_accuracy: 0.9995 - val_loss: 0.5768 - val_binary_accuracy: 0.8678\n",
      "Epoch 4/7\n",
      "15000/15000 [==============================] - 1s 81us/step - loss: 0.0081 - binary_accuracy: 0.9995 - val_loss: 0.6080 - val_binary_accuracy: 0.8680\n",
      "Epoch 5/7\n",
      "15000/15000 [==============================] - 1s 83us/step - loss: 0.0060 - binary_accuracy: 0.9998 - val_loss: 0.6485 - val_binary_accuracy: 0.8636\n",
      "Epoch 6/7\n",
      "15000/15000 [==============================] - 1s 83us/step - loss: 0.0050 - binary_accuracy: 0.9998 - val_loss: 0.6679 - val_binary_accuracy: 0.8643\n",
      "Epoch 7/7\n",
      "15000/15000 [==============================] - 1s 82us/step - loss: 0.0038 - binary_accuracy: 0.9998 - val_loss: 0.7060 - val_binary_accuracy: 0.8658\n",
      "25000/25000 [==============================] - 1s 50us/step\n",
      "[0.7607454730439186, 0.85212]\n"
     ]
    }
   ],
   "source": [
    "# 과적합을 막기 위해 epoch를 7로 제한\n",
    "history = model.fit(partial_x_train,\n",
    "                    partial_y_train,\n",
    "                    epochs=7,\n",
    "                    batch_size=512,\n",
    "                    validation_data=(x_val, y_val))\n",
    "\n",
    "result = model.evaluate(x_test, y_test)\n",
    "print(result)"
   ]
  },
  {
   "cell_type": "markdown",
   "metadata": {},
   "source": [
    "## 3.5 뉴스기사 분류 : 다중 분류 문제\n",
    "### 3.5.1 로이터 데이터셋\n",
    "46개의 토픽이 있으며 어떤 토픽은 다른 것에 비해 데이터가 많고 최소 10개의 샘플이 있음. 훈련 샘플은 8,982개, 테스트 샘플은 2,246개."
   ]
  },
  {
   "cell_type": "code",
   "execution_count": 12,
   "metadata": {},
   "outputs": [
    {
     "data": {
      "text/plain": [
       "'? ? ? said as a result of its december acquisition of space co it expects earnings per share in 1987 of 1 15 to 1 30 dlrs per share up from 70 cts in 1986 the company said pretax net should rise to nine to 10 mln dlrs from six mln dlrs in 1986 and rental operation revenues to 19 to 22 mln dlrs from 12 5 mln dlrs it said cash flow per share this year should be 2 50 to three dlrs reuter 3'"
      ]
     },
     "execution_count": 12,
     "metadata": {},
     "output_type": "execute_result"
    }
   ],
   "source": [
    "from keras.datasets import reuters\n",
    "\n",
    "# num_words : 빈도가 많은 순으로 1~10만번째 단어만 사용함을 의미\n",
    "# 일반적으로는 훈련 데이터에서 구축한 어휘 사전으로 테스트 세트를 변환(테스트 세트의 어휘를 학습하지 않게 하기 위해)\n",
    "(train_data, train_labels), (test_data, test_labels) = reuters.load_data(num_words=10000)\n",
    "                                                                         \n",
    "# 원래 단어로 변환\n",
    "word_index = reuters.get_word_index()\n",
    "reverse_word_index = dict([value, key] for (key, value) in word_index.items())\n",
    "decoded_review = ' '.join([reverse_word_index.get(i-3, '?') for i in train_data[0]]) # 0, 1, 2는 패딩, 문서시작, 사전에 없음을 위한 인덱스이므로 3을 뺌\n",
    "decoded_review"
   ]
  },
  {
   "cell_type": "markdown",
   "metadata": {},
   "source": [
    "### 3.5.2 데이터 준비\n",
    "One-hot 인코딩을 사용하여 레이블 데이터 변경. 내장함수를 사용하는 방식은 하단부 주석을 참고."
   ]
  },
  {
   "cell_type": "code",
   "execution_count": 13,
   "metadata": {},
   "outputs": [],
   "source": [
    "import numpy as np\n",
    "\n",
    "# 입력 데이터\n",
    "def vectorize_sequences(sequences, dimension=10000):\n",
    "    result = np.zeros((len(sequences), dimension))\n",
    "    for i, seq in enumerate(sequences):\n",
    "        result[i, seq] = 1. # numpy는 여러 요소를 한번에 1로 바꿀 수 있음\n",
    "    return result\n",
    "\n",
    "x_train = vectorize_sequences(train_data)\n",
    "x_test  = vectorize_sequences(test_data)\n",
    "\n",
    "# 레이블 데이터\n",
    "def to_one_hot(labels, dimension=46):\n",
    "    result = np.zeros((len(labels), dimension))\n",
    "    for i, l in enumerate(labels):\n",
    "        result[i, l] = 1. # numpy는 여러 요소를 한번에 1로 바꿀 수 있음\n",
    "    return result\n",
    "\n",
    "onehot_train_labels = to_one_hot(train_labels)\n",
    "onehot_test_labels  = to_one_hot(test_labels)\n",
    "\n",
    "# 내장함수를 사용하는 경우\n",
    "# from keras.utils.np_utils import to_categorical\n",
    "# onehot_train_labels = to_categorical(train_labels)\n",
    "# onehot_test_labels  = to_categorical(test_labels)"
   ]
  },
  {
   "cell_type": "markdown",
   "metadata": {},
   "source": [
    "### 3.5.3 모델 구성\n",
    "IMDB 데이터셋 대비 많은 46개의 클래스를 구분하기 충분한 Weight 개수로 구성 필요"
   ]
  },
  {
   "cell_type": "code",
   "execution_count": 14,
   "metadata": {},
   "outputs": [],
   "source": [
    "from keras import models\n",
    "from keras import layers\n",
    "\n",
    "model = models.Sequential()\n",
    "model.add(layers.Dense(64, activation='relu', input_shape=(10000,)))\n",
    "model.add(layers.Dense(64, activation='relu'))\n",
    "model.add(layers.Dense(46, activation='softmax')) # 다중 클래스 구분에 사용\n",
    "\n",
    "model.compile(optimizer='rmsprop',             # Learning Rate는 기본값\n",
    "              loss='categorical_crossentropy', # 모델이 출력한 확률분포와 실 레이블의 분포 사이의 거리\n",
    "              metrics=['accuracy'])"
   ]
  },
  {
   "cell_type": "markdown",
   "metadata": {},
   "source": [
    "### 3.5.4 훈련 검증\n",
    "훈련 데이터에서 1,000개의 샘플을 따로 떼어서 검증 세트로 사용."
   ]
  },
  {
   "cell_type": "code",
   "execution_count": 15,
   "metadata": {},
   "outputs": [],
   "source": [
    "x_val = x_train[:1000]\n",
    "partial_x_train = x_train[1000:]\n",
    "y_val = onehot_train_labels[:1000]\n",
    "partial_y_train = onehot_train_labels[1000:]"
   ]
  },
  {
   "cell_type": "code",
   "execution_count": 16,
   "metadata": {},
   "outputs": [
    {
     "name": "stdout",
     "output_type": "stream",
     "text": [
      "Train on 7982 samples, validate on 1000 samples\n",
      "Epoch 1/20\n",
      "7982/7982 [==============================] - 1s 83us/step - loss: 2.5322 - acc: 0.4955 - val_loss: 1.7208 - val_acc: 0.6120\n",
      "Epoch 2/20\n",
      "7982/7982 [==============================] - 0s 57us/step - loss: 1.4452 - acc: 0.6879 - val_loss: 1.3459 - val_acc: 0.7060\n",
      "Epoch 3/20\n",
      "7982/7982 [==============================] - 0s 56us/step - loss: 1.0953 - acc: 0.7651 - val_loss: 1.1708 - val_acc: 0.7430\n",
      "Epoch 4/20\n",
      "7982/7982 [==============================] - 0s 57us/step - loss: 0.8697 - acc: 0.8165 - val_loss: 1.0793 - val_acc: 0.7590\n",
      "Epoch 5/20\n",
      "7982/7982 [==============================] - 0s 56us/step - loss: 0.7034 - acc: 0.8472 - val_loss: 0.9844 - val_acc: 0.7810\n",
      "Epoch 6/20\n",
      "7982/7982 [==============================] - 0s 56us/step - loss: 0.5667 - acc: 0.8802 - val_loss: 0.9411 - val_acc: 0.8040\n",
      "Epoch 7/20\n",
      "7982/7982 [==============================] - 0s 54us/step - loss: 0.4581 - acc: 0.9048 - val_loss: 0.9083 - val_acc: 0.8020\n",
      "Epoch 8/20\n",
      "7982/7982 [==============================] - 0s 55us/step - loss: 0.3695 - acc: 0.9231 - val_loss: 0.9363 - val_acc: 0.7890\n",
      "Epoch 9/20\n",
      "7982/7982 [==============================] - 0s 58us/step - loss: 0.3032 - acc: 0.9315 - val_loss: 0.8917 - val_acc: 0.8090\n",
      "Epoch 10/20\n",
      "7982/7982 [==============================] - 0s 55us/step - loss: 0.2537 - acc: 0.9414 - val_loss: 0.9071 - val_acc: 0.8110\n",
      "Epoch 11/20\n",
      "7982/7982 [==============================] - 0s 57us/step - loss: 0.2187 - acc: 0.9471 - val_loss: 0.9177 - val_acc: 0.8130\n",
      "Epoch 12/20\n",
      "7982/7982 [==============================] - 0s 55us/step - loss: 0.1873 - acc: 0.9508 - val_loss: 0.9027 - val_acc: 0.8130\n",
      "Epoch 13/20\n",
      "7982/7982 [==============================] - 0s 54us/step - loss: 0.1703 - acc: 0.9521 - val_loss: 0.9323 - val_acc: 0.8110\n",
      "Epoch 14/20\n",
      "7982/7982 [==============================] - 0s 56us/step - loss: 0.1536 - acc: 0.9554 - val_loss: 0.9689 - val_acc: 0.8050\n",
      "Epoch 15/20\n",
      "7982/7982 [==============================] - 0s 55us/step - loss: 0.1390 - acc: 0.9560 - val_loss: 0.9686 - val_acc: 0.8150\n",
      "Epoch 16/20\n",
      "7982/7982 [==============================] - 0s 55us/step - loss: 0.1313 - acc: 0.9560 - val_loss: 1.0220 - val_acc: 0.8060\n",
      "Epoch 17/20\n",
      "7982/7982 [==============================] - 0s 58us/step - loss: 0.1217 - acc: 0.9579 - val_loss: 1.0254 - val_acc: 0.7970\n",
      "Epoch 18/20\n",
      "7982/7982 [==============================] - 0s 55us/step - loss: 0.1198 - acc: 0.9582 - val_loss: 1.0430 - val_acc: 0.8060\n",
      "Epoch 19/20\n",
      "7982/7982 [==============================] - 0s 55us/step - loss: 0.1138 - acc: 0.9597 - val_loss: 1.0955 - val_acc: 0.7970\n",
      "Epoch 20/20\n",
      "7982/7982 [==============================] - 0s 55us/step - loss: 0.1111 - acc: 0.9593 - val_loss: 1.0674 - val_acc: 0.8020\n"
     ]
    }
   ],
   "source": [
    "history = model.fit(partial_x_train,\n",
    "                    partial_y_train,\n",
    "                    epochs=20,\n",
    "                    batch_size=512,\n",
    "                    validation_data=(x_val, y_val))"
   ]
  },
  {
   "cell_type": "code",
   "execution_count": 17,
   "metadata": {},
   "outputs": [
    {
     "data": {
      "image/png": "[encoded data removed]",
      "text/plain": [
       "<Figure size 576x504 with 1 Axes>"
      ]
     },
     "metadata": {},
     "output_type": "display_data"
    }
   ],
   "source": [
    "# 훈련과 검증 손실\n",
    "import matplotlib.pyplot as plt\n",
    "%matplotlib inline\n",
    "\n",
    "from jupyterthemes import jtplot\n",
    "jtplot.style(theme='oceans16', context='notebook', ticks=False, grid=False)\n",
    "\n",
    "plt.clf()\n",
    "\n",
    "loss = history.history['loss']\n",
    "val_loss = history.history['val_loss']\n",
    "\n",
    "epochs = range(1, len(loss) + 1)\n",
    "\n",
    "plt.plot(epochs, loss, 'o', label='Training loss')\n",
    "plt.plot(epochs, val_loss, 'o', label='Validation loss')\n",
    "plt.title('Training and validation loss')\n",
    "plt.xlabel('Epochs')\n",
    "plt.ylabel('Loss')\n",
    "plt.legend()\n",
    "\n",
    "plt.show() # 7번째부터 Validation과 Training의 방향이 역전됨"
   ]
  },
  {
   "cell_type": "code",
   "execution_count": 18,
   "metadata": {},
   "outputs": [
    {
     "data": {
      "image/png": "[encoded data removed]",
      "text/plain": [
       "<Figure size 576x504 with 1 Axes>"
      ]
     },
     "metadata": {},
     "output_type": "display_data"
    }
   ],
   "source": [
    "# 훈련과 검증 정확도\n",
    "plt.clf()\n",
    "\n",
    "acc = history.history['acc']\n",
    "val_acc = history.history['val_acc']\n",
    "\n",
    "plt.plot(epochs, acc, 'o', label='Training acc')\n",
    "plt.plot(epochs, val_acc, 'o', label='Validation acc')\n",
    "plt.title('Training and validation accuracy')\n",
    "plt.xlabel('Epochs')\n",
    "plt.ylabel('Accuracy')\n",
    "plt.legend()\n",
    "\n",
    "plt.show() # 7번째부터 Validation의 acc가 상승되지 않음"
   ]
  },
  {
   "cell_type": "code",
   "execution_count": 19,
   "metadata": {},
   "outputs": [
    {
     "name": "stdout",
     "output_type": "stream",
     "text": [
      "Train on 7982 samples, validate on 1000 samples\n",
      "Epoch 1/9\n",
      "7982/7982 [==============================] - 1s 76us/step - loss: 2.5398 - acc: 0.5226 - val_loss: 1.6733 - val_acc: 0.6570\n",
      "Epoch 2/9\n",
      "7982/7982 [==============================] - 0s 54us/step - loss: 1.3712 - acc: 0.7121 - val_loss: 1.2758 - val_acc: 0.7210\n",
      "Epoch 3/9\n",
      "7982/7982 [==============================] - 0s 56us/step - loss: 1.0136 - acc: 0.7781 - val_loss: 1.1303 - val_acc: 0.7530\n",
      "Epoch 4/9\n",
      "7982/7982 [==============================] - 0s 54us/step - loss: 0.7976 - acc: 0.8251 - val_loss: 1.0539 - val_acc: 0.7590\n",
      "Epoch 5/9\n",
      "7982/7982 [==============================] - 0s 60us/step - loss: 0.6393 - acc: 0.8624 - val_loss: 0.9754 - val_acc: 0.7920\n",
      "Epoch 6/9\n",
      "7982/7982 [==============================] - 0s 58us/step - loss: 0.5124 - acc: 0.8921 - val_loss: 0.9102 - val_acc: 0.8140\n",
      "Epoch 7/9\n",
      "7982/7982 [==============================] - 0s 56us/step - loss: 0.4124 - acc: 0.9139 - val_loss: 0.8932 - val_acc: 0.8210\n",
      "Epoch 8/9\n",
      "7982/7982 [==============================] - 0s 54us/step - loss: 0.3355 - acc: 0.9290 - val_loss: 0.8733 - val_acc: 0.8260\n",
      "Epoch 9/9\n",
      "7982/7982 [==============================] - 0s 57us/step - loss: 0.2782 - acc: 0.9372 - val_loss: 0.9342 - val_acc: 0.8000\n",
      "2246/2246 [==============================] - 0s 59us/step\n"
     ]
    }
   ],
   "source": [
    "# 적절한 epoch를 반영하여 모델을 재학습\n",
    "model = models.Sequential()\n",
    "model.add(layers.Dense(64, activation='relu', input_shape=(10000,)))\n",
    "model.add(layers.Dense(64, activation='relu'))\n",
    "model.add(layers.Dense(46, activation='softmax')) # 다중 클래스 구분에 사용\n",
    "\n",
    "model.compile(optimizer='rmsprop',             # Learning Rate는 기본값\n",
    "              loss='categorical_crossentropy', # 모델이 출력한 확률분포와 실 레이블의 분포 사이의 거리\n",
    "              metrics=['accuracy'])\n",
    "\n",
    "model.fit(partial_x_train,\n",
    "          partial_y_train,\n",
    "          epochs=9,\n",
    "          batch_size=512,\n",
    "          validation_data=(x_val, y_val))\n",
    "\n",
    "results = model.evaluate(x_test, onehot_test_labels)"
   ]
  },
  {
   "cell_type": "code",
   "execution_count": 20,
   "metadata": {},
   "outputs": [
    {
     "name": "stdout",
     "output_type": "stream",
     "text": [
      "['loss', 'acc']\n",
      "[0.7607454730439186, 0.85212]\n"
     ]
    }
   ],
   "source": [
    "print(model.metrics_names)\n",
    "print(result) # 85%의 정확도"
   ]
  },
  {
   "cell_type": "markdown",
   "metadata": {},
   "source": [
    "### 3.5.5 새로운 데이터에 대해 예측하기\n",
    "predictions의 각 항목 길이는 46인 벡터이며 백터의 원소합은 1. 이 중 가장 큰 값이 예측 클래스가 "
   ]
  },
  {
   "cell_type": "code",
   "execution_count": 21,
   "metadata": {},
   "outputs": [
    {
     "data": {
      "text/plain": [
       "(46,)"
      ]
     },
     "execution_count": 21,
     "metadata": {},
     "output_type": "execute_result"
    }
   ],
   "source": [
    "predictions = model.predict(x_test)\n",
    "predictions[0].shape"
   ]
  },
  {
   "cell_type": "code",
   "execution_count": 22,
   "metadata": {},
   "outputs": [
    {
     "data": {
      "text/plain": [
       "0.99999976"
      ]
     },
     "execution_count": 22,
     "metadata": {},
     "output_type": "execute_result"
    }
   ],
   "source": [
    "np.sum(predictions[0])"
   ]
  },
  {
   "cell_type": "code",
   "execution_count": 23,
   "metadata": {},
   "outputs": [
    {
     "data": {
      "text/plain": [
       "3"
      ]
     },
     "execution_count": 23,
     "metadata": {},
     "output_type": "execute_result"
    }
   ],
   "source": [
    "np.argmax(predictions[0]) # 클래스가 3임"
   ]
  },
  {
   "cell_type": "markdown",
   "metadata": {},
   "source": [
    "### 3.5.6 레이블과 손실을 다루는 다른 방법\n",
    "정수 텐서로 변환하고 손실 함수를 sparse_categorical_crossentropy로 변환하면 수학적으로 categorical_crossentropy와 동일.\n",
    "\n",
    "    y_train = np.array(train_labels)\n",
    "    y_test = np.array(test_labels)\n",
    "    ...\n",
    "    model.compile(optimizer='rmsprop',\n",
    "                  loss=sparse_categorical_crossentropy\n",
    "                  metrics=['acc']) \n",
    "\n",
    "### 3.5.9 정리\n",
    "+ loss는 범주형 크로스엔트로피를 사용\n",
    "+ 레이블을 다루는 2가지 방법\n",
    "    + 레이블을 범주형 인코딩(또는 원-핫 인코딩)하고 categorical_crossentropy 손실 함수를 사용\n",
    "    + 레이블을 정수로 인코딩하고 sparse_categorical_crossentropy 손실 함수를 사용"
   ]
  },
  {
   "cell_type": "markdown",
   "metadata": {},
   "source": [
    "## 3.6 주택 가격 예측: 회귀문제\n",
    "### 3.6.1 보스턴 주택 가격 데이터셋\n",
    "1970년 중반 보스턴 외곽 지역의 범죄율, 지방세율 등의 데이터가 주어졌을 때 주택 가격의 중간 값을 예측하는 문제.\n",
    "데이터 포인트는 506개, 이 중 404개는 훈련 샘플, 102개는 테스트 샘플로 나뉘어 있음. 타깃은 주택의 중간 가격으로 천 달러 단위임."
   ]
  },
  {
   "cell_type": "code",
   "execution_count": 25,
   "metadata": {},
   "outputs": [
    {
     "name": "stdout",
     "output_type": "stream",
     "text": [
      "train & test data shapes (404, 13) (102, 13)\n",
      "traget [15.2 42.3 50.  21.1 17.7 18.5]\n"
     ]
    }
   ],
   "source": [
    "from keras.datasets import boston_housing\n",
    "\n",
    "(train_data, train_targets), (test_data, test_targets) = boston_housing.load_data()\n",
    "print(\"train & test data shapes\", train_data.shape, test_data.shape)\n",
    "print(\"traget\", train_targets[:6])"
   ]
  },
  {
   "cell_type": "markdown",
   "metadata": {},
   "source": [
    "### 3.6.2 데이터 준비\n",
    "특성의 스케일이 다르면 전역 최소 점을 찾아가는 경사 하강법의 경로가 스케일 큰 특성에 영향을 많이 받기 때문에 정규화를 적용"
   ]
  },
  {
   "cell_type": "code",
   "execution_count": 26,
   "metadata": {},
   "outputs": [],
   "source": [
    "mean = train_data.mean(axis=0)\n",
    "train_data -= mean\n",
    "std = train_data.std(axis=0)\n",
    "train_data /= std\n",
    "\n",
    "test_data -= mean # 머신러닝 작업과정에서 절대로 테스트 데이터에서 계산한 \n",
    "test_data /= std  # 어떤 값도 사용해서는 안됨"
   ]
  },
  {
   "cell_type": "markdown",
   "metadata": {},
   "source": [
    "### 3.6.3 모델 구성\n",
    "샘플 개수가 적기 때문에 과대 적합을 피할 수 있도록 2개 은닉 층으로 구성된 작은 네크워크를 사용\n",
    "+ 회귀 문제기 때문에 마지막 레이어는 하나의 유닛을 가지고 활성화 함수가 없음\n",
    "+ 손실함수는 평균 제곱 오차(mean squared error), 회귀 문제에서 널리 사용됨\n",
    "+ 훈련 모니터링을 위해 평균 절대 오차(mean absolute error)를 측정"
   ]
  },
  {
   "cell_type": "code",
   "execution_count": 27,
   "metadata": {},
   "outputs": [],
   "source": [
    "from keras import models\n",
    "from keras import layers\n",
    "\n",
    "def build_model(): # 동일한 모델을 여러 번 생성할 것이므로 함수를 만들어 사용\n",
    "    model = models.Sequential()\n",
    "    model.add(layers.Dense(64, activation='relu', input_shape=(train_data.shape[1], )))\n",
    "    model.add(layers.Dense(64, activation='relu'))\n",
    "    model.add(layers.Dense(1))\n",
    "    model.compile(optimizer='rmsprop', loss='mse', metrics=['mae'])\n",
    "    return model            "
   ]
  },
  {
   "cell_type": "markdown",
   "metadata": {},
   "source": [
    "### 3.6.4 K-겹 검증을 사용한 훈련 검증\n",
    "데이터가 많지 않기 때문에 훈련 데이터와 테스트 데이터를 교차 분할하여 사용하는 K-겹 교차 검증을 사용함"
   ]
  },
  {
   "cell_type": "code",
   "execution_count": 28,
   "metadata": {},
   "outputs": [
    {
     "name": "stdout",
     "output_type": "stream",
     "text": [
      "처리중인 폴드 # 0\n",
      "처리중인 폴드 # 1\n",
      "처리중인 폴드 # 2\n",
      "처리중인 폴드 # 3\n"
     ]
    }
   ],
   "source": [
    "import numpy as np\n",
    "\n",
    "k = 4\n",
    "num_val_samples = len(train_data) // k\n",
    "num_epochs = 500\n",
    "all_mae_histories = []\n",
    "\n",
    "for i in range(k):\n",
    "    print(\"처리중인 폴드 #\", i)\n",
    "    \n",
    "    # 검증 데이터 준비\n",
    "    val_data = train_data[i*num_val_samples : (i+1)*num_val_samples]\n",
    "    val_targets = train_targets[i*num_val_samples : (i+1)*num_val_samples]\n",
    "    \n",
    "    # 훈련 데이터 준비\n",
    "    partial_train_data = np.concatenate(\n",
    "        [train_data[:i * num_val_samples], train_data[(i+1)*num_val_samples:]],\n",
    "        axis=0\n",
    "    )\n",
    "    partial_train_targets = np.concatenate(\n",
    "        [train_targets[:i * num_val_samples], train_targets[(i+1)*num_val_samples:]],\n",
    "        axis=0\n",
    "    )\n",
    "    \n",
    "    model = build_model()\n",
    "    hist = model.fit(partial_train_data, partial_train_targets,\n",
    "                     validation_data=(val_data, val_targets),\n",
    "                     epochs=num_epochs, batch_size=1,\n",
    "                     verbose=0) # verbose=0이면 미ㅣ훈련 과정이 출력되지 않음\n",
    "    mae_hist = hist.history['val_mean_absolute_error']\n",
    "    all_mae_histories.append(mae_hist)"
   ]
  },
  {
   "cell_type": "code",
   "execution_count": 29,
   "metadata": {},
   "outputs": [],
   "source": [
    "average_mae_history = [\n",
    "    np.mean([x[i] for x in all_mae_histories])\n",
    "    for i in range(num_epochs) # 각 폴드를 순회하면서 epochs별 평균값을 구함\n",
    "]"
   ]
  },
  {
   "cell_type": "code",
   "execution_count": 30,
   "metadata": {},
   "outputs": [
    {
     "data": {
      "image/png": "[encoded data removed]",
      "text/plain": [
       "<Figure size 576x504 with 1 Axes>"
      ]
     },
     "metadata": {},
     "output_type": "display_data"
    }
   ],
   "source": [
    "import matplotlib.pyplot as plt\n",
    "%matplotlib inline\n",
    "\n",
    "from jupyterthemes import jtplot\n",
    "jtplot.style(theme='oceans16', context='notebook')\n",
    "\n",
    "plt.plot(range(1, len(average_mae_history) + 1), average_mae_history)\n",
    "plt.xlabel('Epochs')\n",
    "plt.ylabel('Validation MAE')\n",
    "plt.show()"
   ]
  },
  {
   "cell_type": "code",
   "execution_count": 31,
   "metadata": {},
   "outputs": [
    {
     "data": {
      "text/plain": [
       "Text(0, 0.5, 'Validation MAE')"
      ]
     },
     "execution_count": 31,
     "metadata": {},
     "output_type": "execute_result"
    },
    {
     "data": {
      "image/png": "[encoded data removed]",
      "text/plain": [
       "<Figure size 576x504 with 1 Axes>"
      ]
     },
     "metadata": {},
     "output_type": "display_data"
    }
   ],
   "source": [
    "# 그래프의 변동이 심하기 때문에 지수 이동평균으로 대체\n",
    "def smooth_curve(points, factor=0.9):\n",
    "    smoothed_points=[]\n",
    "    \n",
    "    for point in points:\n",
    "        if smoothed_points:\n",
    "            previous = smoothed_points[-1]\n",
    "            smoothed_points.append(previous * factor + point * (1-factor))\n",
    "        else:\n",
    "            smoothed_points.append(point)\n",
    "            \n",
    "    return smoothed_points\n",
    "\n",
    "smooth_mae_history = smooth_curve(average_mae_history[10:])\n",
    "\n",
    "plt.plot(range(1, len(smooth_mae_history) + 1), smooth_mae_history)\n",
    "plt.xlabel('Epochs')\n",
    "plt.ylabel('Validation MAE')"
   ]
  },
  {
   "cell_type": "code",
   "execution_count": 32,
   "metadata": {},
   "outputs": [
    {
     "name": "stdout",
     "output_type": "stream",
     "text": [
      "102/102 [==============================] - 0s 669us/step\n"
     ]
    }
   ],
   "source": [
    "# 최종 모델 훈련\n",
    "model = build_model()\n",
    "model.fit(train_data, train_targets, epochs=80, batch_size=10, verbose=0)\n",
    "test_mse_score, test_mae_score = model.evaluate(test_data, test_targets)"
   ]
  },
  {
   "cell_type": "code",
   "execution_count": 33,
   "metadata": {},
   "outputs": [
    {
     "data": {
      "text/plain": [
       "2.7772768899506213"
      ]
     },
     "execution_count": 33,
     "metadata": {},
     "output_type": "execute_result"
    }
   ],
   "source": [
    "test_mae_score # 테스트 데이터를 통한 평가결과 약 2,600달러 차이가 발생"
   ]
  },
  {
   "cell_type": "markdown",
   "metadata": {},
   "source": [
    "## 3.6.5 정리\n",
    "+ 회귀는 분류와는 다르게 평균 제곱 오차를 손실 함수로 자주 사용\n",
    "+ 일반적인 회귀 지표는 평균 절대 오차\n",
    "+ 가용 데이터가 적다면 K-겹 검증을 사용\n",
    "+ 가용 데이터가 적다면 과대적합을 피하기 위해 은닉 층의 수를 적게 사용"
   ]
  }
 ],
 "metadata": {
  "kernelspec": {
   "display_name": "Python 3",
   "language": "python",
   "name": "python3"
  },
  "language_info": {
   "codemirror_mode": {
    "name": "ipython",
    "version": 3
   },
   "file_extension": ".py",
   "mimetype": "text/x-python",
   "name": "python",
   "nbconvert_exporter": "python",
   "pygments_lexer": "ipython3",
   "version": "3.6.8"
  }
 },
 "nbformat": 4,
 "nbformat_minor": 2
}
